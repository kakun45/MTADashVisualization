{
 "cells": [
  {
   "cell_type": "markdown",
   "metadata": {},
   "source": [
    "## Why did I pick those stations? \n",
    "-> Midtown is my main Focus of interest. The first place to go.\n",
    "## What does it mean for me? \n",
    "-> The Midtown is where I mostly go to. It has 17 stations that I'm familiar with. Just because It's the closest to where I live => faster.\n",
    "    \n",
    "## The visual part: I made separate python files. Dash was used to graph the cleaned data and Folium for html randering a map. Later I grouped them together on one html page.\n",
    "\n",
    "## Extra. I tested how do I create a Whole New York City map with folium and plot my data on it. Disclamer: Data was passed through the same Jupiter noutebook cleaning process as for Midtown, but it wasn't checked further if it's clean. It's on my #TODO list. \n",
    "    \n",
    "## Future plans. Where is the project going? \n",
    "-> I'd like to transform the project into Flask website to rander the different htmls to get control over the zizes of the bubbles in different times\n",
    "->  Also maybe add a several weeks into a project to compare them; - add a year to build the expectencies around Holidays/Games/Events."
   ]
  },
  {
   "cell_type": "code",
   "execution_count": null,
   "metadata": {},
   "outputs": [],
   "source": [
    "#5 Questiuons that Data Visualization answer:\n",
    "\n",
    "#1 What is the lowest of exit/enter flow, which of a weekday/ what time?\n",
    "#2 What is the peak of exit/enter flow of a weekday/time?\n",
    "#3 What is the difference of the in/out flow on the Weekend? \n",
    "#4 How big is a difference in W 42nd st (Port Auth.) and E 42nd st (Grand Station) at a peak hours of a weekday?\n",
    "#5 How does a difference in peak look on a weekday/weekend?\n",
    "\n",
    "## where is the max num of ppl in Midtown? - visualization shows 47th st Rock (ex. pic) https://www.flickr.com/photos/scottlynchnyc/8228120783/in/photolist-dx6gDr-s2cKh5-92KXJ8-bkjBKb-iD4p9p-rnPWD6-Q91Dp2-4h1X6S-bpXZP6-i5YNhn-bDKEud-ochztq-4amHUm-7ukDTE-bkjBsb-qckqRM-9aCEUi-ifa7yj-i5Zvrz-aXn51c-ic17ZA-qrmvjG-i5Zyb2-dsBB9i-9ZJkXf-nbs4Jt-2276pSW-qhEb4U-nyUjCr-9aGwU5-eW7GB9-ic17Mw-k8A7q-i5YXbW-i5YXSf-auZzeg-b8e7Bv-evHcS1-i5Zxke-9aGuBQ-qjzUzG-aXn3Sz-i5YUx7-nU1t3h-52H2Dk-91MH3Y-7Te6QF-5MbTd7-aXn5iH-i5YTJ3/lightbox/\n",
    "\n",
    "## Other ideas for use of this Viz.: For a coffee shop or a mobile food/drink tracks: where to sell coffee, around which station is a pick time?\n"
   ]
  }
 ],
 "metadata": {
  "kernelspec": {
   "display_name": "env1",
   "language": "python",
   "name": "env1"
  },
  "language_info": {
   "codemirror_mode": {
    "name": "ipython",
    "version": 3
   },
   "file_extension": ".py",
   "mimetype": "text/x-python",
   "name": "python",
   "nbconvert_exporter": "python",
   "pygments_lexer": "ipython3",
   "version": "3.5.6"
  }
 },
 "nbformat": 4,
 "nbformat_minor": 4
}
